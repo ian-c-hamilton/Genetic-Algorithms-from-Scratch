{
 "cells": [
  {
   "cell_type": "markdown",
   "metadata": {},
   "source": [
    "# Genetic Algorithms with Python\n",
    "\n",
    "The below follows the book \"Genetic Algorithms with Python\" by Clinton Sheppard"
   ]
  },
  {
   "cell_type": "code",
   "execution_count": 14,
   "metadata": {},
   "outputs": [],
   "source": [
    "geneSet = \"abcdefghijklmnopqrstuvwxyz ABCDEFGHIJKLMNOPQRSTUVWXYZ1234567890!@#$%^&*()_+-=,.,/<>[]:;'\"\n",
    "target = 'To be or not to be. That is the question!'\n",
    "\n",
    "import random\n",
    "def generate_parent(length):\n",
    "    genes = []\n",
    "    while len(genes) < length:\n",
    "        sampleSize = min(length - len(genes), len(geneSet))\n",
    "        genes.extend(random.sample(geneSet, sampleSize))\n",
    "        return ''.join(genes)"
   ]
  },
  {
   "cell_type": "code",
   "execution_count": 15,
   "metadata": {},
   "outputs": [],
   "source": [
    "def get_fitness(guess):\n",
    "    return sum(1 for expected, actual in zip(target, guess) if expected == actual)"
   ]
  },
  {
   "cell_type": "code",
   "execution_count": 16,
   "metadata": {},
   "outputs": [],
   "source": [
    "def mutate(parent):\n",
    "    index = random.randrange(0, len(parent))\n",
    "    childGenes = list(parent)\n",
    "    newGene, alternate = random.sample(geneSet, 2)\n",
    "    childGenes[index] = alternate if newGene == childGenes[index] else newGene\n",
    "    return ''.join(childGenes)"
   ]
  },
  {
   "cell_type": "code",
   "execution_count": 17,
   "metadata": {},
   "outputs": [],
   "source": [
    "import datetime\n",
    "\n",
    "def display(guess):\n",
    "    timeDiff = datetime.datetime.now() - startTime\n",
    "    fitness = get_fitness(guess)\n",
    "    print(\"{}\\t{}\\t{}\".format(guess, fitness, timeDiff))"
   ]
  },
  {
   "cell_type": "code",
   "execution_count": 18,
   "metadata": {},
   "outputs": [
    {
     "name": "stdout",
     "output_type": "stream",
     "text": [
      "$jJW/T!x'tdK71M ueLSR@mGv_8V52l[F(&ryOh9<\t2\t0:00:00\n"
     ]
    }
   ],
   "source": [
    "random.seed\n",
    "startTime = datetime.datetime.now()\n",
    "bestParent = generate_parent(len(target))\n",
    "bestFitness = get_fitness(bestParent)\n",
    "display(bestParent)"
   ]
  },
  {
   "cell_type": "code",
   "execution_count": 19,
   "metadata": {},
   "outputs": [
    {
     "name": "stdout",
     "output_type": "stream",
     "text": [
      "$jJW/T!x'tdK71M ueLSR@mG _8V52l[F(&ryOh9<\t3\t0:00:00.020275\n",
      "$jJW/T!x'ndK71M ueLSR@mG _8V52l[F(&ryOh9<\t4\t0:00:00.021273\n",
      "$jJW/T!x'ndK71M ueLSR@mG _8V52l[F(&ryih9<\t5\t0:00:00.021273\n",
      "$jJW/T!x'ndK71M ueLSR@mG _8Vt2l[F(&ryih9<\t6\t0:00:00.022273\n",
      "$jJW/T!x'ndK71M ueLSR@mG _8Vt2l[F(&ryihn<\t7\t0:00:00.023287\n",
      "$jJW/T!x'ndK71M ue.SR@mG _8Vt2l[F(&ryihn<\t8\t0:00:00.023287\n",
      "$jJW/T!x'ndK71M ue.SRhmG _8Vt2l[F(&ryihn<\t9\t0:00:00.024285\n",
      "$jJW/T!x'noK71M ue.SRhmG _8Vt2l[F(&ryihn<\t10\t0:00:00.027285\n",
      "$j W/T!x'noK71M ue.SRhmG _8Vt2l[F(&ryihn<\t11\t0:00:00.030270\n",
      "$j W/T!x'noK71M ue.SRhaG _8Vt2l[F(&ryihn<\t12\t0:00:00.032270\n",
      "$j W/T!x'noK71M ue.SRhaG _8Vt2l[F(&syihn<\t13\t0:00:00.032270\n",
      "$j W/T!x'noK71M be.SRhaG _8Vt2l[F(&syihn<\t14\t0:00:00.032270\n",
      "$j W/T!x'noK71o be.SRhaG _8Vt2l[F(&syihn<\t15\t0:00:00.033061\n",
      "$j W/T!x'noK71o be. RhaG _8Vt2l[F(&syihn<\t16\t0:00:00.034061\n",
      "$j W/T!x'noK71o be. RhaG _8Vt2l[F(&syion<\t17\t0:00:00.034061\n",
      "$j W/T!x'not71o be. RhaG _8Vt2l[F(&syion<\t18\t0:00:00.035073\n",
      "$j W/T!x'not71o be. RhaG _8Vt2l[q(&syion<\t19\t0:00:00.036074\n",
      "$j W/T!x'not71o be. RhaG _8Vt2l[qu&syion<\t20\t0:00:00.036074\n",
      "$j W/T!x'not71o be. RhaG _8Vthl[qu&syion<\t21\t0:00:00.039073\n",
      "$j W/T!x'not71o be. ThaG _8Vthl[qu&syion<\t22\t0:00:00.042071\n",
      "$j W/T!x'not71o be. ThaG _8 thl[qu&syion<\t23\t0:00:00.042071\n",
      "$j W/T!r'not71o be. ThaG _8 thl[qu&syion<\t24\t0:00:00.045070\n",
      "$o W/T!r'not71o be. ThaG _8 thl[qu&syion<\t25\t0:00:00.049774\n",
      "$o W/T!r'not71o be. ThaG _8 thl[qu&stion<\t26\t0:00:00.051774\n",
      "$o W/T!r not71o be. ThaG _8 thl[qu&stion<\t27\t0:00:00.055774\n",
      "$o W/T!r not71o be. ThaG _s thl[qu&stion<\t28\t0:00:00.060313\n",
      "$o W/Tor not71o be. ThaG _s thl[qu&stion<\t29\t0:00:00.061490\n",
      "$o b/Tor not71o be. ThaG _s thl[qu&stion<\t30\t0:00:00.061490\n",
      "$o b/Tor not 1o be. ThaG _s thl[qu&stion<\t31\t0:00:00.061490\n",
      "$o beTor not 1o be. ThaG _s thl[qu&stion<\t32\t0:00:00.072809\n",
      "$o beTor not 1o be. ThaG is thl[qu&stion<\t33\t0:00:00.073795\n",
      "$o beTor not 1o be. ThaG is thl qu&stion<\t34\t0:00:00.075794\n",
      "$o beTor not 1o be. ThaG is thl question<\t35\t0:00:00.081838\n",
      "$o beTor not 1o be. That is thl question<\t36\t0:00:00.097127\n",
      "$o beTor not 1o be. That is the question<\t37\t0:00:00.110845\n",
      "$o be or not 1o be. That is the question<\t38\t0:00:00.114842\n",
      "To be or not 1o be. That is the question<\t39\t0:00:00.120907\n",
      "To be or not 1o be. That is the question!\t40\t0:00:00.138111\n",
      "To be or not to be. That is the question!\t41\t0:00:00.147106\n"
     ]
    }
   ],
   "source": [
    "while True:\n",
    "    child = mutate(bestParent)\n",
    "    childFitness = get_fitness(child)\n",
    "    if bestFitness >= childFitness:\n",
    "        continue\n",
    "    display(child)\n",
    "    if childFitness >= len(bestParent):\n",
    "        break\n",
    "    bestFitness = childFitness\n",
    "    bestParent = child"
   ]
  },
  {
   "cell_type": "code",
   "execution_count": null,
   "metadata": {},
   "outputs": [],
   "source": []
  }
 ],
 "metadata": {
  "kernelspec": {
   "display_name": "base",
   "language": "python",
   "name": "python3"
  },
  "language_info": {
   "codemirror_mode": {
    "name": "ipython",
    "version": 3
   },
   "file_extension": ".py",
   "mimetype": "text/x-python",
   "name": "python",
   "nbconvert_exporter": "python",
   "pygments_lexer": "ipython3",
   "version": "3.8.5"
  }
 },
 "nbformat": 4,
 "nbformat_minor": 2
}
